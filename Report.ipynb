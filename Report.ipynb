{
 "cells": [
  {
   "cell_type": "markdown",
   "metadata": {},
   "source": [
    "# PowerPuff Grills - Pattern Recognition - Final Report"
   ]
  },
  {
   "cell_type": "markdown",
   "metadata": {},
   "source": [
    "## 1. Group Organization"
   ]
  },
  {
   "cell_type": "markdown",
   "metadata": {},
   "source": [
    "- **Channels**:\n",
    "We used WhatsApp as communication platform to organize meetings and to update each other with the current progress and status of our work\n",
    "On GitHub we created some issues to assign tasks to the team members\n",
    "We worked with different branches to develop independently and to finally merge everything into the master branch\n",
    "We met weekly to plan and discuss the progress and the next steps\n",
    "\n",
    "- **Planning**:\n",
    "For each task we discussed how we could split the work into subtasks and how we could assign them to the team members\n",
    "We tried to estimate the effort for each subtasks and their dependencies\n",
    "Finally, we defined deadlines for each sub-task to make sure that we will comply with the given submission date\n",
    "\n",
    "- **Execution**: \n",
    "Depending on the subtask, we worked alone, in pairs or in a subgroup\n",
    "In cases of dependencies we communicated the progress and briefed each other about the implemented solution\n"
   ]
  },
  {
   "cell_type": "markdown",
   "metadata": {},
   "source": [
    "## 2. Tasks"
   ]
  },
  {
   "cell_type": "markdown",
   "metadata": {},
   "source": [
    "### 2.1 Task 2"
   ]
  },
  {
   "cell_type": "markdown",
   "metadata": {},
   "source": [
    "#### a) SVM"
   ]
  },
  {
   "cell_type": "markdown",
   "metadata": {},
   "source": [
    "**What is special about our solution**\n",
    "\n",
    "\n",
    "**Our approach:**\n",
    "We implemented the SVM algorithm and used the … function to test the best combinations for the hyperparameters (C, ….) by feeding the function with an array with values to combine\n",
    "\n",
    "\n",
    "**What worked, what didn’t work:**\n",
    "We didn’t manage to finish the training of the SVM, after a few days we had to finish the training manually\n"
   ]
  },
  {
   "cell_type": "markdown",
   "metadata": {},
   "source": [
    "#### b) MLP"
   ]
  },
  {
   "cell_type": "markdown",
   "metadata": {},
   "source": [
    "**What is special about our solution**\n",
    "\n",
    "\n",
    "**Our approach:**\n",
    "\n",
    "\n",
    "**What worked, what didn’t work:**"
   ]
  },
  {
   "cell_type": "markdown",
   "metadata": {},
   "source": [
    "#### c) CNN"
   ]
  },
  {
   "cell_type": "markdown",
   "metadata": {},
   "source": [
    "**What is special about our solution**\n",
    "\n",
    "\n",
    "**Our approach:**\n",
    "We used the DeepDiva framework to train and test the network. In order to complete the provided CNN implementation we  \n",
    "1. investigated the shape (width and height) and number of input-channels of the images from the MNIST dataset with help of the appropriate Python-function\n",
    "2. calculated the number of output-channels and the kernel size that it fits to the predefined classifier-layer with the formula given in the lecture\n",
    "3. provided the final linear layer with the output size, which was given by the number of classes in the MNIST dataset\n",
    "\n",
    "\n",
    "**What worked, what didn’t work:**\n",
    "- Some group members didn’t manage to install or execute the DeepDiva framework\n",
    "+ In case of a running DeepDiva framework it was easy to use and provided helpful feedback, also the visualization with the integrated Tensorboard was really cool"
   ]
  }
 ],
 "metadata": {
  "kernelspec": {
   "display_name": "anaconda",
   "language": "python",
   "name": "anaconda"
  },
  "language_info": {
   "codemirror_mode": {
    "name": "ipython",
    "version": 3
   },
   "file_extension": ".py",
   "mimetype": "text/x-python",
   "name": "python",
   "nbconvert_exporter": "python",
   "pygments_lexer": "ipython3",
   "version": "3.6.7"
  }
 },
 "nbformat": 4,
 "nbformat_minor": 2
}
